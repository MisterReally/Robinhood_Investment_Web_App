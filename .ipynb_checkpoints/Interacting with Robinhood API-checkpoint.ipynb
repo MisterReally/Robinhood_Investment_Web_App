{
 "cells": [
  {
   "cell_type": "markdown",
   "metadata": {},
   "source": [
    "## Imports"
   ]
  },
  {
   "cell_type": "code",
   "execution_count": 23,
   "metadata": {
    "ExecuteTime": {
     "end_time": "2020-06-26T18:38:31.215844Z",
     "start_time": "2020-06-26T18:38:31.176023Z"
    }
   },
   "outputs": [],
   "source": [
    "import robin_stocks\n",
    "import pandas as pd\n",
    "import os"
   ]
  },
  {
   "cell_type": "markdown",
   "metadata": {},
   "source": [
    "## Login"
   ]
  },
  {
   "cell_type": "code",
   "execution_count": 44,
   "metadata": {
    "ExecuteTime": {
     "end_time": "2020-06-26T20:01:52.691688Z",
     "start_time": "2020-06-26T20:01:52.677220Z"
    }
   },
   "outputs": [],
   "source": [
    "# login to robinhood\n",
    "#robin_stocks.authentication.login(username='xxxxxxx', password='xxxxxxxx', expiresIn=86400, scope='internal', \n",
    "#                                  by_sms=True, store_session=True)"
   ]
  },
  {
   "cell_type": "markdown",
   "metadata": {},
   "source": [
    "## Get AAPL Data"
   ]
  },
  {
   "cell_type": "code",
   "execution_count": 25,
   "metadata": {
    "ExecuteTime": {
     "end_time": "2020-06-26T18:38:33.054492Z",
     "start_time": "2020-06-26T18:38:32.770949Z"
    }
   },
   "outputs": [],
   "source": [
    "apple = robin_stocks.stocks.get_stock_historicals('AAPL', interval='day', span='month', bounds='regular')"
   ]
  },
  {
   "cell_type": "code",
   "execution_count": 26,
   "metadata": {
    "ExecuteTime": {
     "end_time": "2020-06-26T18:38:34.115390Z",
     "start_time": "2020-06-26T18:38:34.062917Z"
    }
   },
   "outputs": [],
   "source": [
    "apple_df = pd.DataFrame(apple)"
   ]
  },
  {
   "cell_type": "code",
   "execution_count": 27,
   "metadata": {
    "ExecuteTime": {
     "end_time": "2020-06-26T18:38:34.979495Z",
     "start_time": "2020-06-26T18:38:34.904311Z"
    }
   },
   "outputs": [
    {
     "data": {
      "text/html": [
       "<div>\n",
       "<style scoped>\n",
       "    .dataframe tbody tr th:only-of-type {\n",
       "        vertical-align: middle;\n",
       "    }\n",
       "\n",
       "    .dataframe tbody tr th {\n",
       "        vertical-align: top;\n",
       "    }\n",
       "\n",
       "    .dataframe thead th {\n",
       "        text-align: right;\n",
       "    }\n",
       "</style>\n",
       "<table border=\"1\" class=\"dataframe\">\n",
       "  <thead>\n",
       "    <tr style=\"text-align: right;\">\n",
       "      <th></th>\n",
       "      <th>begins_at</th>\n",
       "      <th>open_price</th>\n",
       "      <th>close_price</th>\n",
       "      <th>high_price</th>\n",
       "      <th>low_price</th>\n",
       "      <th>volume</th>\n",
       "      <th>session</th>\n",
       "      <th>interpolated</th>\n",
       "      <th>symbol</th>\n",
       "    </tr>\n",
       "  </thead>\n",
       "  <tbody>\n",
       "    <tr>\n",
       "      <th>0</th>\n",
       "      <td>2020-05-26T00:00:00Z</td>\n",
       "      <td>323.500000</td>\n",
       "      <td>316.730000</td>\n",
       "      <td>324.240000</td>\n",
       "      <td>316.500000</td>\n",
       "      <td>31380454</td>\n",
       "      <td>reg</td>\n",
       "      <td>False</td>\n",
       "      <td>AAPL</td>\n",
       "    </tr>\n",
       "    <tr>\n",
       "      <th>1</th>\n",
       "      <td>2020-05-27T00:00:00Z</td>\n",
       "      <td>316.140000</td>\n",
       "      <td>318.110000</td>\n",
       "      <td>318.710000</td>\n",
       "      <td>313.090000</td>\n",
       "      <td>28236274</td>\n",
       "      <td>reg</td>\n",
       "      <td>False</td>\n",
       "      <td>AAPL</td>\n",
       "    </tr>\n",
       "    <tr>\n",
       "      <th>2</th>\n",
       "      <td>2020-05-28T00:00:00Z</td>\n",
       "      <td>316.770000</td>\n",
       "      <td>318.250000</td>\n",
       "      <td>323.440000</td>\n",
       "      <td>315.630000</td>\n",
       "      <td>33449103</td>\n",
       "      <td>reg</td>\n",
       "      <td>False</td>\n",
       "      <td>AAPL</td>\n",
       "    </tr>\n",
       "    <tr>\n",
       "      <th>3</th>\n",
       "      <td>2020-05-29T00:00:00Z</td>\n",
       "      <td>319.250000</td>\n",
       "      <td>317.940000</td>\n",
       "      <td>321.150000</td>\n",
       "      <td>316.470000</td>\n",
       "      <td>38399532</td>\n",
       "      <td>reg</td>\n",
       "      <td>False</td>\n",
       "      <td>AAPL</td>\n",
       "    </tr>\n",
       "    <tr>\n",
       "      <th>4</th>\n",
       "      <td>2020-06-01T00:00:00Z</td>\n",
       "      <td>317.750000</td>\n",
       "      <td>321.850000</td>\n",
       "      <td>322.350000</td>\n",
       "      <td>317.210000</td>\n",
       "      <td>20254653</td>\n",
       "      <td>reg</td>\n",
       "      <td>False</td>\n",
       "      <td>AAPL</td>\n",
       "    </tr>\n",
       "    <tr>\n",
       "      <th>5</th>\n",
       "      <td>2020-06-02T00:00:00Z</td>\n",
       "      <td>320.745000</td>\n",
       "      <td>323.340000</td>\n",
       "      <td>323.440000</td>\n",
       "      <td>318.930000</td>\n",
       "      <td>21910704</td>\n",
       "      <td>reg</td>\n",
       "      <td>False</td>\n",
       "      <td>AAPL</td>\n",
       "    </tr>\n",
       "    <tr>\n",
       "      <th>6</th>\n",
       "      <td>2020-06-03T00:00:00Z</td>\n",
       "      <td>324.660000</td>\n",
       "      <td>325.120000</td>\n",
       "      <td>326.200000</td>\n",
       "      <td>322.300000</td>\n",
       "      <td>26122804</td>\n",
       "      <td>reg</td>\n",
       "      <td>False</td>\n",
       "      <td>AAPL</td>\n",
       "    </tr>\n",
       "    <tr>\n",
       "      <th>7</th>\n",
       "      <td>2020-06-04T00:00:00Z</td>\n",
       "      <td>324.390000</td>\n",
       "      <td>322.320000</td>\n",
       "      <td>325.620000</td>\n",
       "      <td>320.780000</td>\n",
       "      <td>21890091</td>\n",
       "      <td>reg</td>\n",
       "      <td>False</td>\n",
       "      <td>AAPL</td>\n",
       "    </tr>\n",
       "    <tr>\n",
       "      <th>8</th>\n",
       "      <td>2020-06-05T00:00:00Z</td>\n",
       "      <td>323.350000</td>\n",
       "      <td>331.500000</td>\n",
       "      <td>331.750000</td>\n",
       "      <td>323.230000</td>\n",
       "      <td>34312550</td>\n",
       "      <td>reg</td>\n",
       "      <td>False</td>\n",
       "      <td>AAPL</td>\n",
       "    </tr>\n",
       "    <tr>\n",
       "      <th>9</th>\n",
       "      <td>2020-06-08T00:00:00Z</td>\n",
       "      <td>330.250000</td>\n",
       "      <td>333.460000</td>\n",
       "      <td>333.600000</td>\n",
       "      <td>327.320000</td>\n",
       "      <td>23913634</td>\n",
       "      <td>reg</td>\n",
       "      <td>False</td>\n",
       "      <td>AAPL</td>\n",
       "    </tr>\n",
       "    <tr>\n",
       "      <th>10</th>\n",
       "      <td>2020-06-09T00:00:00Z</td>\n",
       "      <td>332.140000</td>\n",
       "      <td>343.990000</td>\n",
       "      <td>345.610000</td>\n",
       "      <td>332.010000</td>\n",
       "      <td>36928091</td>\n",
       "      <td>reg</td>\n",
       "      <td>False</td>\n",
       "      <td>AAPL</td>\n",
       "    </tr>\n",
       "    <tr>\n",
       "      <th>11</th>\n",
       "      <td>2020-06-10T00:00:00Z</td>\n",
       "      <td>347.900000</td>\n",
       "      <td>352.840000</td>\n",
       "      <td>354.770000</td>\n",
       "      <td>346.090000</td>\n",
       "      <td>41662938</td>\n",
       "      <td>reg</td>\n",
       "      <td>False</td>\n",
       "      <td>AAPL</td>\n",
       "    </tr>\n",
       "    <tr>\n",
       "      <th>12</th>\n",
       "      <td>2020-06-11T00:00:00Z</td>\n",
       "      <td>349.310000</td>\n",
       "      <td>335.900000</td>\n",
       "      <td>351.060000</td>\n",
       "      <td>335.480000</td>\n",
       "      <td>50415613</td>\n",
       "      <td>reg</td>\n",
       "      <td>False</td>\n",
       "      <td>AAPL</td>\n",
       "    </tr>\n",
       "    <tr>\n",
       "      <th>13</th>\n",
       "      <td>2020-06-12T00:00:00Z</td>\n",
       "      <td>344.720000</td>\n",
       "      <td>338.800000</td>\n",
       "      <td>347.800000</td>\n",
       "      <td>334.223300</td>\n",
       "      <td>50036513</td>\n",
       "      <td>reg</td>\n",
       "      <td>False</td>\n",
       "      <td>AAPL</td>\n",
       "    </tr>\n",
       "    <tr>\n",
       "      <th>14</th>\n",
       "      <td>2020-06-15T00:00:00Z</td>\n",
       "      <td>333.250000</td>\n",
       "      <td>342.990000</td>\n",
       "      <td>345.680000</td>\n",
       "      <td>332.580000</td>\n",
       "      <td>34702230</td>\n",
       "      <td>reg</td>\n",
       "      <td>False</td>\n",
       "      <td>AAPL</td>\n",
       "    </tr>\n",
       "    <tr>\n",
       "      <th>15</th>\n",
       "      <td>2020-06-16T00:00:00Z</td>\n",
       "      <td>351.460000</td>\n",
       "      <td>352.080000</td>\n",
       "      <td>353.200000</td>\n",
       "      <td>344.720000</td>\n",
       "      <td>41357182</td>\n",
       "      <td>reg</td>\n",
       "      <td>False</td>\n",
       "      <td>AAPL</td>\n",
       "    </tr>\n",
       "    <tr>\n",
       "      <th>16</th>\n",
       "      <td>2020-06-17T00:00:00Z</td>\n",
       "      <td>355.150000</td>\n",
       "      <td>351.590000</td>\n",
       "      <td>355.400000</td>\n",
       "      <td>351.090000</td>\n",
       "      <td>28601626</td>\n",
       "      <td>reg</td>\n",
       "      <td>False</td>\n",
       "      <td>AAPL</td>\n",
       "    </tr>\n",
       "    <tr>\n",
       "      <th>17</th>\n",
       "      <td>2020-06-18T00:00:00Z</td>\n",
       "      <td>351.410000</td>\n",
       "      <td>351.730000</td>\n",
       "      <td>353.450000</td>\n",
       "      <td>349.220000</td>\n",
       "      <td>24205096</td>\n",
       "      <td>reg</td>\n",
       "      <td>False</td>\n",
       "      <td>AAPL</td>\n",
       "    </tr>\n",
       "    <tr>\n",
       "      <th>18</th>\n",
       "      <td>2020-06-19T00:00:00Z</td>\n",
       "      <td>354.635000</td>\n",
       "      <td>349.720000</td>\n",
       "      <td>356.560000</td>\n",
       "      <td>345.150000</td>\n",
       "      <td>66118952</td>\n",
       "      <td>reg</td>\n",
       "      <td>False</td>\n",
       "      <td>AAPL</td>\n",
       "    </tr>\n",
       "    <tr>\n",
       "      <th>19</th>\n",
       "      <td>2020-06-22T00:00:00Z</td>\n",
       "      <td>351.340000</td>\n",
       "      <td>358.870000</td>\n",
       "      <td>359.460000</td>\n",
       "      <td>351.150000</td>\n",
       "      <td>33861316</td>\n",
       "      <td>reg</td>\n",
       "      <td>False</td>\n",
       "      <td>AAPL</td>\n",
       "    </tr>\n",
       "    <tr>\n",
       "      <th>20</th>\n",
       "      <td>2020-06-23T00:00:00Z</td>\n",
       "      <td>364.000000</td>\n",
       "      <td>366.530000</td>\n",
       "      <td>372.380000</td>\n",
       "      <td>362.270100</td>\n",
       "      <td>53038869</td>\n",
       "      <td>reg</td>\n",
       "      <td>False</td>\n",
       "      <td>AAPL</td>\n",
       "    </tr>\n",
       "    <tr>\n",
       "      <th>21</th>\n",
       "      <td>2020-06-24T00:00:00Z</td>\n",
       "      <td>365.000000</td>\n",
       "      <td>360.060000</td>\n",
       "      <td>368.790000</td>\n",
       "      <td>358.520000</td>\n",
       "      <td>48155849</td>\n",
       "      <td>reg</td>\n",
       "      <td>False</td>\n",
       "      <td>AAPL</td>\n",
       "    </tr>\n",
       "    <tr>\n",
       "      <th>22</th>\n",
       "      <td>2020-06-25T00:00:00Z</td>\n",
       "      <td>360.700000</td>\n",
       "      <td>364.840000</td>\n",
       "      <td>365.000000</td>\n",
       "      <td>357.570000</td>\n",
       "      <td>34380628</td>\n",
       "      <td>reg</td>\n",
       "      <td>False</td>\n",
       "      <td>AAPL</td>\n",
       "    </tr>\n",
       "  </tbody>\n",
       "</table>\n",
       "</div>"
      ],
      "text/plain": [
       "               begins_at  open_price close_price  high_price   low_price  \\\n",
       "0   2020-05-26T00:00:00Z  323.500000  316.730000  324.240000  316.500000   \n",
       "1   2020-05-27T00:00:00Z  316.140000  318.110000  318.710000  313.090000   \n",
       "2   2020-05-28T00:00:00Z  316.770000  318.250000  323.440000  315.630000   \n",
       "3   2020-05-29T00:00:00Z  319.250000  317.940000  321.150000  316.470000   \n",
       "4   2020-06-01T00:00:00Z  317.750000  321.850000  322.350000  317.210000   \n",
       "5   2020-06-02T00:00:00Z  320.745000  323.340000  323.440000  318.930000   \n",
       "6   2020-06-03T00:00:00Z  324.660000  325.120000  326.200000  322.300000   \n",
       "7   2020-06-04T00:00:00Z  324.390000  322.320000  325.620000  320.780000   \n",
       "8   2020-06-05T00:00:00Z  323.350000  331.500000  331.750000  323.230000   \n",
       "9   2020-06-08T00:00:00Z  330.250000  333.460000  333.600000  327.320000   \n",
       "10  2020-06-09T00:00:00Z  332.140000  343.990000  345.610000  332.010000   \n",
       "11  2020-06-10T00:00:00Z  347.900000  352.840000  354.770000  346.090000   \n",
       "12  2020-06-11T00:00:00Z  349.310000  335.900000  351.060000  335.480000   \n",
       "13  2020-06-12T00:00:00Z  344.720000  338.800000  347.800000  334.223300   \n",
       "14  2020-06-15T00:00:00Z  333.250000  342.990000  345.680000  332.580000   \n",
       "15  2020-06-16T00:00:00Z  351.460000  352.080000  353.200000  344.720000   \n",
       "16  2020-06-17T00:00:00Z  355.150000  351.590000  355.400000  351.090000   \n",
       "17  2020-06-18T00:00:00Z  351.410000  351.730000  353.450000  349.220000   \n",
       "18  2020-06-19T00:00:00Z  354.635000  349.720000  356.560000  345.150000   \n",
       "19  2020-06-22T00:00:00Z  351.340000  358.870000  359.460000  351.150000   \n",
       "20  2020-06-23T00:00:00Z  364.000000  366.530000  372.380000  362.270100   \n",
       "21  2020-06-24T00:00:00Z  365.000000  360.060000  368.790000  358.520000   \n",
       "22  2020-06-25T00:00:00Z  360.700000  364.840000  365.000000  357.570000   \n",
       "\n",
       "      volume session  interpolated symbol  \n",
       "0   31380454     reg         False   AAPL  \n",
       "1   28236274     reg         False   AAPL  \n",
       "2   33449103     reg         False   AAPL  \n",
       "3   38399532     reg         False   AAPL  \n",
       "4   20254653     reg         False   AAPL  \n",
       "5   21910704     reg         False   AAPL  \n",
       "6   26122804     reg         False   AAPL  \n",
       "7   21890091     reg         False   AAPL  \n",
       "8   34312550     reg         False   AAPL  \n",
       "9   23913634     reg         False   AAPL  \n",
       "10  36928091     reg         False   AAPL  \n",
       "11  41662938     reg         False   AAPL  \n",
       "12  50415613     reg         False   AAPL  \n",
       "13  50036513     reg         False   AAPL  \n",
       "14  34702230     reg         False   AAPL  \n",
       "15  41357182     reg         False   AAPL  \n",
       "16  28601626     reg         False   AAPL  \n",
       "17  24205096     reg         False   AAPL  \n",
       "18  66118952     reg         False   AAPL  \n",
       "19  33861316     reg         False   AAPL  \n",
       "20  53038869     reg         False   AAPL  \n",
       "21  48155849     reg         False   AAPL  \n",
       "22  34380628     reg         False   AAPL  "
      ]
     },
     "execution_count": 27,
     "metadata": {},
     "output_type": "execute_result"
    }
   ],
   "source": [
    "apple_df"
   ]
  },
  {
   "cell_type": "code",
   "execution_count": 28,
   "metadata": {
    "ExecuteTime": {
     "end_time": "2020-06-26T18:38:36.117341Z",
     "start_time": "2020-06-26T18:38:36.100342Z"
    }
   },
   "outputs": [
    {
     "data": {
      "text/plain": [
       "begins_at       object\n",
       "open_price      object\n",
       "close_price     object\n",
       "high_price      object\n",
       "low_price       object\n",
       "volume           int64\n",
       "session         object\n",
       "interpolated      bool\n",
       "symbol          object\n",
       "dtype: object"
      ]
     },
     "execution_count": 28,
     "metadata": {},
     "output_type": "execute_result"
    }
   ],
   "source": [
    "apple_df.dtypes"
   ]
  },
  {
   "cell_type": "markdown",
   "metadata": {},
   "source": [
    "## Get Historical Data for 10 different stocks\n",
    "- Daily data over past 3 months"
   ]
  },
  {
   "cell_type": "code",
   "execution_count": 29,
   "metadata": {
    "ExecuteTime": {
     "end_time": "2020-06-26T18:38:39.579916Z",
     "start_time": "2020-06-26T18:38:39.509425Z"
    }
   },
   "outputs": [],
   "source": [
    "stock_list = ['AAPL', 'JPM', 'BAC', 'T', 'GOOG', 'XOM', 'MSFT', 'WFC', 'AMZN', 'VZ']\n",
    "\n",
    "stock_list_data = robin_stocks.stocks.get_stock_historicals(stock_list, interval='day', span='3month', \n",
    "                                                            bounds='regular')"
   ]
  },
  {
   "cell_type": "code",
   "execution_count": 30,
   "metadata": {
    "ExecuteTime": {
     "end_time": "2020-06-26T18:38:39.688226Z",
     "start_time": "2020-06-26T18:38:39.678485Z"
    }
   },
   "outputs": [],
   "source": [
    "stock_list_df = pd.DataFrame(stock_list_data)"
   ]
  },
  {
   "cell_type": "code",
   "execution_count": 31,
   "metadata": {
    "ExecuteTime": {
     "end_time": "2020-06-26T18:38:39.862758Z",
     "start_time": "2020-06-26T18:38:39.817917Z"
    }
   },
   "outputs": [
    {
     "data": {
      "text/html": [
       "<div>\n",
       "<style scoped>\n",
       "    .dataframe tbody tr th:only-of-type {\n",
       "        vertical-align: middle;\n",
       "    }\n",
       "\n",
       "    .dataframe tbody tr th {\n",
       "        vertical-align: top;\n",
       "    }\n",
       "\n",
       "    .dataframe thead th {\n",
       "        text-align: right;\n",
       "    }\n",
       "</style>\n",
       "<table border=\"1\" class=\"dataframe\">\n",
       "  <thead>\n",
       "    <tr style=\"text-align: right;\">\n",
       "      <th></th>\n",
       "      <th>begins_at</th>\n",
       "      <th>open_price</th>\n",
       "      <th>close_price</th>\n",
       "      <th>high_price</th>\n",
       "      <th>low_price</th>\n",
       "      <th>volume</th>\n",
       "      <th>session</th>\n",
       "      <th>interpolated</th>\n",
       "      <th>symbol</th>\n",
       "    </tr>\n",
       "  </thead>\n",
       "  <tbody>\n",
       "    <tr>\n",
       "      <th>0</th>\n",
       "      <td>2020-03-26T00:00:00Z</td>\n",
       "      <td>246.520000</td>\n",
       "      <td>258.440000</td>\n",
       "      <td>258.680000</td>\n",
       "      <td>246.360000</td>\n",
       "      <td>63140169</td>\n",
       "      <td>reg</td>\n",
       "      <td>False</td>\n",
       "      <td>AAPL</td>\n",
       "    </tr>\n",
       "    <tr>\n",
       "      <th>1</th>\n",
       "      <td>2020-03-27T00:00:00Z</td>\n",
       "      <td>252.750000</td>\n",
       "      <td>247.740000</td>\n",
       "      <td>255.870000</td>\n",
       "      <td>247.050000</td>\n",
       "      <td>51054153</td>\n",
       "      <td>reg</td>\n",
       "      <td>False</td>\n",
       "      <td>AAPL</td>\n",
       "    </tr>\n",
       "    <tr>\n",
       "      <th>2</th>\n",
       "      <td>2020-03-30T00:00:00Z</td>\n",
       "      <td>250.740000</td>\n",
       "      <td>254.810000</td>\n",
       "      <td>255.520000</td>\n",
       "      <td>249.400000</td>\n",
       "      <td>41994110</td>\n",
       "      <td>reg</td>\n",
       "      <td>False</td>\n",
       "      <td>AAPL</td>\n",
       "    </tr>\n",
       "    <tr>\n",
       "      <th>3</th>\n",
       "      <td>2020-03-31T00:00:00Z</td>\n",
       "      <td>255.600000</td>\n",
       "      <td>254.290000</td>\n",
       "      <td>262.490000</td>\n",
       "      <td>252.000000</td>\n",
       "      <td>49250501</td>\n",
       "      <td>reg</td>\n",
       "      <td>False</td>\n",
       "      <td>AAPL</td>\n",
       "    </tr>\n",
       "    <tr>\n",
       "      <th>4</th>\n",
       "      <td>2020-04-01T00:00:00Z</td>\n",
       "      <td>246.500000</td>\n",
       "      <td>240.910000</td>\n",
       "      <td>248.720000</td>\n",
       "      <td>239.130000</td>\n",
       "      <td>44054638</td>\n",
       "      <td>reg</td>\n",
       "      <td>False</td>\n",
       "      <td>AAPL</td>\n",
       "    </tr>\n",
       "    <tr>\n",
       "      <th>...</th>\n",
       "      <td>...</td>\n",
       "      <td>...</td>\n",
       "      <td>...</td>\n",
       "      <td>...</td>\n",
       "      <td>...</td>\n",
       "      <td>...</td>\n",
       "      <td>...</td>\n",
       "      <td>...</td>\n",
       "      <td>...</td>\n",
       "    </tr>\n",
       "    <tr>\n",
       "      <th>635</th>\n",
       "      <td>2020-06-19T00:00:00Z</td>\n",
       "      <td>57.350000</td>\n",
       "      <td>56.160000</td>\n",
       "      <td>57.470000</td>\n",
       "      <td>56.000000</td>\n",
       "      <td>28843754</td>\n",
       "      <td>reg</td>\n",
       "      <td>False</td>\n",
       "      <td>VZ</td>\n",
       "    </tr>\n",
       "    <tr>\n",
       "      <th>636</th>\n",
       "      <td>2020-06-22T00:00:00Z</td>\n",
       "      <td>55.910000</td>\n",
       "      <td>55.660000</td>\n",
       "      <td>56.260000</td>\n",
       "      <td>55.610000</td>\n",
       "      <td>12333875</td>\n",
       "      <td>reg</td>\n",
       "      <td>False</td>\n",
       "      <td>VZ</td>\n",
       "    </tr>\n",
       "    <tr>\n",
       "      <th>637</th>\n",
       "      <td>2020-06-23T00:00:00Z</td>\n",
       "      <td>55.750000</td>\n",
       "      <td>54.940000</td>\n",
       "      <td>55.845000</td>\n",
       "      <td>54.910000</td>\n",
       "      <td>20716400</td>\n",
       "      <td>reg</td>\n",
       "      <td>False</td>\n",
       "      <td>VZ</td>\n",
       "    </tr>\n",
       "    <tr>\n",
       "      <th>638</th>\n",
       "      <td>2020-06-24T00:00:00Z</td>\n",
       "      <td>54.540000</td>\n",
       "      <td>53.930000</td>\n",
       "      <td>54.560000</td>\n",
       "      <td>53.455000</td>\n",
       "      <td>24794574</td>\n",
       "      <td>reg</td>\n",
       "      <td>False</td>\n",
       "      <td>VZ</td>\n",
       "    </tr>\n",
       "    <tr>\n",
       "      <th>639</th>\n",
       "      <td>2020-06-25T00:00:00Z</td>\n",
       "      <td>53.910000</td>\n",
       "      <td>54.280000</td>\n",
       "      <td>54.385000</td>\n",
       "      <td>53.340000</td>\n",
       "      <td>17122520</td>\n",
       "      <td>reg</td>\n",
       "      <td>False</td>\n",
       "      <td>VZ</td>\n",
       "    </tr>\n",
       "  </tbody>\n",
       "</table>\n",
       "<p>640 rows × 9 columns</p>\n",
       "</div>"
      ],
      "text/plain": [
       "                begins_at  open_price close_price  high_price   low_price  \\\n",
       "0    2020-03-26T00:00:00Z  246.520000  258.440000  258.680000  246.360000   \n",
       "1    2020-03-27T00:00:00Z  252.750000  247.740000  255.870000  247.050000   \n",
       "2    2020-03-30T00:00:00Z  250.740000  254.810000  255.520000  249.400000   \n",
       "3    2020-03-31T00:00:00Z  255.600000  254.290000  262.490000  252.000000   \n",
       "4    2020-04-01T00:00:00Z  246.500000  240.910000  248.720000  239.130000   \n",
       "..                    ...         ...         ...         ...         ...   \n",
       "635  2020-06-19T00:00:00Z   57.350000   56.160000   57.470000   56.000000   \n",
       "636  2020-06-22T00:00:00Z   55.910000   55.660000   56.260000   55.610000   \n",
       "637  2020-06-23T00:00:00Z   55.750000   54.940000   55.845000   54.910000   \n",
       "638  2020-06-24T00:00:00Z   54.540000   53.930000   54.560000   53.455000   \n",
       "639  2020-06-25T00:00:00Z   53.910000   54.280000   54.385000   53.340000   \n",
       "\n",
       "       volume session  interpolated symbol  \n",
       "0    63140169     reg         False   AAPL  \n",
       "1    51054153     reg         False   AAPL  \n",
       "2    41994110     reg         False   AAPL  \n",
       "3    49250501     reg         False   AAPL  \n",
       "4    44054638     reg         False   AAPL  \n",
       "..        ...     ...           ...    ...  \n",
       "635  28843754     reg         False     VZ  \n",
       "636  12333875     reg         False     VZ  \n",
       "637  20716400     reg         False     VZ  \n",
       "638  24794574     reg         False     VZ  \n",
       "639  17122520     reg         False     VZ  \n",
       "\n",
       "[640 rows x 9 columns]"
      ]
     },
     "execution_count": 31,
     "metadata": {},
     "output_type": "execute_result"
    }
   ],
   "source": [
    "stock_list_df"
   ]
  },
  {
   "cell_type": "code",
   "execution_count": 32,
   "metadata": {
    "ExecuteTime": {
     "end_time": "2020-06-26T18:38:40.064959Z",
     "start_time": "2020-06-26T18:38:40.030925Z"
    }
   },
   "outputs": [
    {
     "data": {
      "text/html": [
       "<div>\n",
       "<style scoped>\n",
       "    .dataframe tbody tr th:only-of-type {\n",
       "        vertical-align: middle;\n",
       "    }\n",
       "\n",
       "    .dataframe tbody tr th {\n",
       "        vertical-align: top;\n",
       "    }\n",
       "\n",
       "    .dataframe thead th {\n",
       "        text-align: right;\n",
       "    }\n",
       "</style>\n",
       "<table border=\"1\" class=\"dataframe\">\n",
       "  <thead>\n",
       "    <tr style=\"text-align: right;\">\n",
       "      <th></th>\n",
       "      <th>begins_at</th>\n",
       "      <th>close_price</th>\n",
       "      <th>volume</th>\n",
       "      <th>symbol</th>\n",
       "    </tr>\n",
       "  </thead>\n",
       "  <tbody>\n",
       "    <tr>\n",
       "      <th>0</th>\n",
       "      <td>2020-03-26T00:00:00Z</td>\n",
       "      <td>258.440000</td>\n",
       "      <td>63140169</td>\n",
       "      <td>AAPL</td>\n",
       "    </tr>\n",
       "    <tr>\n",
       "      <th>1</th>\n",
       "      <td>2020-03-27T00:00:00Z</td>\n",
       "      <td>247.740000</td>\n",
       "      <td>51054153</td>\n",
       "      <td>AAPL</td>\n",
       "    </tr>\n",
       "    <tr>\n",
       "      <th>2</th>\n",
       "      <td>2020-03-30T00:00:00Z</td>\n",
       "      <td>254.810000</td>\n",
       "      <td>41994110</td>\n",
       "      <td>AAPL</td>\n",
       "    </tr>\n",
       "    <tr>\n",
       "      <th>3</th>\n",
       "      <td>2020-03-31T00:00:00Z</td>\n",
       "      <td>254.290000</td>\n",
       "      <td>49250501</td>\n",
       "      <td>AAPL</td>\n",
       "    </tr>\n",
       "    <tr>\n",
       "      <th>4</th>\n",
       "      <td>2020-04-01T00:00:00Z</td>\n",
       "      <td>240.910000</td>\n",
       "      <td>44054638</td>\n",
       "      <td>AAPL</td>\n",
       "    </tr>\n",
       "  </tbody>\n",
       "</table>\n",
       "</div>"
      ],
      "text/plain": [
       "              begins_at close_price    volume symbol\n",
       "0  2020-03-26T00:00:00Z  258.440000  63140169   AAPL\n",
       "1  2020-03-27T00:00:00Z  247.740000  51054153   AAPL\n",
       "2  2020-03-30T00:00:00Z  254.810000  41994110   AAPL\n",
       "3  2020-03-31T00:00:00Z  254.290000  49250501   AAPL\n",
       "4  2020-04-01T00:00:00Z  240.910000  44054638   AAPL"
      ]
     },
     "execution_count": 32,
     "metadata": {},
     "output_type": "execute_result"
    }
   ],
   "source": [
    "# Drop unneeded columns\n",
    "stock_list_df.drop(['open_price', 'high_price', 'low_price', 'session', 'interpolated'],\n",
    "                  axis=1, inplace=True)\n",
    "\n",
    "stock_list_df.head()"
   ]
  },
  {
   "cell_type": "code",
   "execution_count": 33,
   "metadata": {
    "ExecuteTime": {
     "end_time": "2020-06-26T18:38:40.279480Z",
     "start_time": "2020-06-26T18:38:40.266510Z"
    }
   },
   "outputs": [],
   "source": [
    "# Get rid of unneeded time information from date column\n",
    "stock_list_df['begins_at'] = stock_list_df['begins_at'].str[:10]"
   ]
  },
  {
   "cell_type": "code",
   "execution_count": 34,
   "metadata": {
    "ExecuteTime": {
     "end_time": "2020-06-26T18:38:41.022955Z",
     "start_time": "2020-06-26T18:38:41.006254Z"
    }
   },
   "outputs": [
    {
     "data": {
      "text/html": [
       "<div>\n",
       "<style scoped>\n",
       "    .dataframe tbody tr th:only-of-type {\n",
       "        vertical-align: middle;\n",
       "    }\n",
       "\n",
       "    .dataframe tbody tr th {\n",
       "        vertical-align: top;\n",
       "    }\n",
       "\n",
       "    .dataframe thead th {\n",
       "        text-align: right;\n",
       "    }\n",
       "</style>\n",
       "<table border=\"1\" class=\"dataframe\">\n",
       "  <thead>\n",
       "    <tr style=\"text-align: right;\">\n",
       "      <th></th>\n",
       "      <th>begins_at</th>\n",
       "      <th>close_price</th>\n",
       "      <th>volume</th>\n",
       "      <th>symbol</th>\n",
       "    </tr>\n",
       "  </thead>\n",
       "  <tbody>\n",
       "    <tr>\n",
       "      <th>0</th>\n",
       "      <td>2020-03-26</td>\n",
       "      <td>258.440000</td>\n",
       "      <td>63140169</td>\n",
       "      <td>AAPL</td>\n",
       "    </tr>\n",
       "    <tr>\n",
       "      <th>1</th>\n",
       "      <td>2020-03-27</td>\n",
       "      <td>247.740000</td>\n",
       "      <td>51054153</td>\n",
       "      <td>AAPL</td>\n",
       "    </tr>\n",
       "    <tr>\n",
       "      <th>2</th>\n",
       "      <td>2020-03-30</td>\n",
       "      <td>254.810000</td>\n",
       "      <td>41994110</td>\n",
       "      <td>AAPL</td>\n",
       "    </tr>\n",
       "    <tr>\n",
       "      <th>3</th>\n",
       "      <td>2020-03-31</td>\n",
       "      <td>254.290000</td>\n",
       "      <td>49250501</td>\n",
       "      <td>AAPL</td>\n",
       "    </tr>\n",
       "    <tr>\n",
       "      <th>4</th>\n",
       "      <td>2020-04-01</td>\n",
       "      <td>240.910000</td>\n",
       "      <td>44054638</td>\n",
       "      <td>AAPL</td>\n",
       "    </tr>\n",
       "  </tbody>\n",
       "</table>\n",
       "</div>"
      ],
      "text/plain": [
       "    begins_at close_price    volume symbol\n",
       "0  2020-03-26  258.440000  63140169   AAPL\n",
       "1  2020-03-27  247.740000  51054153   AAPL\n",
       "2  2020-03-30  254.810000  41994110   AAPL\n",
       "3  2020-03-31  254.290000  49250501   AAPL\n",
       "4  2020-04-01  240.910000  44054638   AAPL"
      ]
     },
     "execution_count": 34,
     "metadata": {},
     "output_type": "execute_result"
    }
   ],
   "source": [
    "stock_list_df.head()"
   ]
  },
  {
   "cell_type": "markdown",
   "metadata": {},
   "source": [
    "## Get AAPL Alone for Experimenting with D3"
   ]
  },
  {
   "cell_type": "code",
   "execution_count": 35,
   "metadata": {
    "ExecuteTime": {
     "end_time": "2020-06-26T18:38:42.069771Z",
     "start_time": "2020-06-26T18:38:42.059874Z"
    }
   },
   "outputs": [],
   "source": [
    "AAPL_df = stock_list_df[stock_list_df['symbol']=='AAPL']"
   ]
  },
  {
   "cell_type": "code",
   "execution_count": 36,
   "metadata": {
    "ExecuteTime": {
     "end_time": "2020-06-26T18:38:42.932503Z",
     "start_time": "2020-06-26T18:38:42.901107Z"
    }
   },
   "outputs": [
    {
     "data": {
      "text/html": [
       "<div>\n",
       "<style scoped>\n",
       "    .dataframe tbody tr th:only-of-type {\n",
       "        vertical-align: middle;\n",
       "    }\n",
       "\n",
       "    .dataframe tbody tr th {\n",
       "        vertical-align: top;\n",
       "    }\n",
       "\n",
       "    .dataframe thead th {\n",
       "        text-align: right;\n",
       "    }\n",
       "</style>\n",
       "<table border=\"1\" class=\"dataframe\">\n",
       "  <thead>\n",
       "    <tr style=\"text-align: right;\">\n",
       "      <th></th>\n",
       "      <th>begins_at</th>\n",
       "      <th>close_price</th>\n",
       "      <th>volume</th>\n",
       "      <th>symbol</th>\n",
       "    </tr>\n",
       "  </thead>\n",
       "  <tbody>\n",
       "    <tr>\n",
       "      <th>0</th>\n",
       "      <td>2020-03-26</td>\n",
       "      <td>258.440000</td>\n",
       "      <td>63140169</td>\n",
       "      <td>AAPL</td>\n",
       "    </tr>\n",
       "    <tr>\n",
       "      <th>1</th>\n",
       "      <td>2020-03-27</td>\n",
       "      <td>247.740000</td>\n",
       "      <td>51054153</td>\n",
       "      <td>AAPL</td>\n",
       "    </tr>\n",
       "    <tr>\n",
       "      <th>2</th>\n",
       "      <td>2020-03-30</td>\n",
       "      <td>254.810000</td>\n",
       "      <td>41994110</td>\n",
       "      <td>AAPL</td>\n",
       "    </tr>\n",
       "    <tr>\n",
       "      <th>3</th>\n",
       "      <td>2020-03-31</td>\n",
       "      <td>254.290000</td>\n",
       "      <td>49250501</td>\n",
       "      <td>AAPL</td>\n",
       "    </tr>\n",
       "    <tr>\n",
       "      <th>4</th>\n",
       "      <td>2020-04-01</td>\n",
       "      <td>240.910000</td>\n",
       "      <td>44054638</td>\n",
       "      <td>AAPL</td>\n",
       "    </tr>\n",
       "    <tr>\n",
       "      <th>...</th>\n",
       "      <td>...</td>\n",
       "      <td>...</td>\n",
       "      <td>...</td>\n",
       "      <td>...</td>\n",
       "    </tr>\n",
       "    <tr>\n",
       "      <th>59</th>\n",
       "      <td>2020-06-19</td>\n",
       "      <td>349.720000</td>\n",
       "      <td>66118952</td>\n",
       "      <td>AAPL</td>\n",
       "    </tr>\n",
       "    <tr>\n",
       "      <th>60</th>\n",
       "      <td>2020-06-22</td>\n",
       "      <td>358.870000</td>\n",
       "      <td>33861316</td>\n",
       "      <td>AAPL</td>\n",
       "    </tr>\n",
       "    <tr>\n",
       "      <th>61</th>\n",
       "      <td>2020-06-23</td>\n",
       "      <td>366.530000</td>\n",
       "      <td>53038869</td>\n",
       "      <td>AAPL</td>\n",
       "    </tr>\n",
       "    <tr>\n",
       "      <th>62</th>\n",
       "      <td>2020-06-24</td>\n",
       "      <td>360.060000</td>\n",
       "      <td>48155849</td>\n",
       "      <td>AAPL</td>\n",
       "    </tr>\n",
       "    <tr>\n",
       "      <th>63</th>\n",
       "      <td>2020-06-25</td>\n",
       "      <td>364.840000</td>\n",
       "      <td>34380628</td>\n",
       "      <td>AAPL</td>\n",
       "    </tr>\n",
       "  </tbody>\n",
       "</table>\n",
       "<p>64 rows × 4 columns</p>\n",
       "</div>"
      ],
      "text/plain": [
       "     begins_at close_price    volume symbol\n",
       "0   2020-03-26  258.440000  63140169   AAPL\n",
       "1   2020-03-27  247.740000  51054153   AAPL\n",
       "2   2020-03-30  254.810000  41994110   AAPL\n",
       "3   2020-03-31  254.290000  49250501   AAPL\n",
       "4   2020-04-01  240.910000  44054638   AAPL\n",
       "..         ...         ...       ...    ...\n",
       "59  2020-06-19  349.720000  66118952   AAPL\n",
       "60  2020-06-22  358.870000  33861316   AAPL\n",
       "61  2020-06-23  366.530000  53038869   AAPL\n",
       "62  2020-06-24  360.060000  48155849   AAPL\n",
       "63  2020-06-25  364.840000  34380628   AAPL\n",
       "\n",
       "[64 rows x 4 columns]"
      ]
     },
     "execution_count": 36,
     "metadata": {},
     "output_type": "execute_result"
    }
   ],
   "source": [
    "AAPL_df"
   ]
  },
  {
   "cell_type": "code",
   "execution_count": 37,
   "metadata": {
    "ExecuteTime": {
     "end_time": "2020-06-26T18:38:47.880122Z",
     "start_time": "2020-06-26T18:38:47.859647Z"
    }
   },
   "outputs": [],
   "source": [
    "# Create data directory\n",
    "if not os.path.exists('data'):\n",
    "    os.makedirs('data')\n",
    "    \n",
    "AAPL_df.to_csv('data/AAPL.csv', index=False)"
   ]
  },
  {
   "cell_type": "markdown",
   "metadata": {},
   "source": [
    "## Send DF with multiple stocks to csv to make dynamic d3 chart"
   ]
  },
  {
   "cell_type": "code",
   "execution_count": 38,
   "metadata": {
    "ExecuteTime": {
     "end_time": "2020-06-26T18:38:49.001954Z",
     "start_time": "2020-06-26T18:38:48.989539Z"
    }
   },
   "outputs": [],
   "source": [
    "stock_list_df.to_csv('data/top_ten.csv', index=False)"
   ]
  },
  {
   "cell_type": "code",
   "execution_count": null,
   "metadata": {},
   "outputs": [],
   "source": []
  },
  {
   "cell_type": "code",
   "execution_count": null,
   "metadata": {},
   "outputs": [],
   "source": []
  },
  {
   "cell_type": "code",
   "execution_count": null,
   "metadata": {},
   "outputs": [],
   "source": []
  },
  {
   "cell_type": "code",
   "execution_count": null,
   "metadata": {},
   "outputs": [],
   "source": []
  },
  {
   "cell_type": "code",
   "execution_count": null,
   "metadata": {},
   "outputs": [],
   "source": []
  },
  {
   "cell_type": "code",
   "execution_count": null,
   "metadata": {},
   "outputs": [],
   "source": []
  },
  {
   "cell_type": "code",
   "execution_count": null,
   "metadata": {},
   "outputs": [],
   "source": []
  },
  {
   "cell_type": "code",
   "execution_count": 43,
   "metadata": {
    "ExecuteTime": {
     "end_time": "2020-06-26T18:50:24.371496Z",
     "start_time": "2020-06-26T18:50:24.080821Z"
    }
   },
   "outputs": [
    {
     "data": {
      "text/plain": [
       "{'instrument': 'https://api.robinhood.com/instruments/39ff611b-84e7-425b-bfb8-6fe2a983fcf3/',\n",
       " 'num_open_positions': 830383}"
      ]
     },
     "execution_count": 43,
     "metadata": {},
     "output_type": "execute_result"
    }
   ],
   "source": [
    "robin_stocks.stocks.get_popularity('GE')"
   ]
  },
  {
   "cell_type": "code",
   "execution_count": null,
   "metadata": {},
   "outputs": [],
   "source": []
  }
 ],
 "metadata": {
  "kernelspec": {
   "display_name": "Python 3",
   "language": "python",
   "name": "python3"
  },
  "language_info": {
   "codemirror_mode": {
    "name": "ipython",
    "version": 3
   },
   "file_extension": ".py",
   "mimetype": "text/x-python",
   "name": "python",
   "nbconvert_exporter": "python",
   "pygments_lexer": "ipython3",
   "version": "3.7.6"
  }
 },
 "nbformat": 4,
 "nbformat_minor": 4
}
