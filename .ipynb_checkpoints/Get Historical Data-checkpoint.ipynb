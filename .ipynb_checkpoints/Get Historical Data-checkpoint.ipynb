{
 "cells": [
  {
   "cell_type": "markdown",
   "metadata": {},
   "source": [
    "## Imports"
   ]
  },
  {
   "cell_type": "code",
   "execution_count": 2,
   "metadata": {
    "ExecuteTime": {
     "end_time": "2020-07-06T15:43:12.087389Z",
     "start_time": "2020-07-06T15:43:10.545935Z"
    }
   },
   "outputs": [],
   "source": [
    "import robin_stocks\n",
    "import pandas as pd\n",
    "import os"
   ]
  },
  {
   "cell_type": "markdown",
   "metadata": {},
   "source": [
    "## Login"
   ]
  },
  {
   "cell_type": "code",
   "execution_count": 23,
   "metadata": {
    "ExecuteTime": {
     "end_time": "2020-07-06T18:53:19.203322Z",
     "start_time": "2020-07-06T18:53:19.180263Z"
    }
   },
   "outputs": [],
   "source": [
    "# login to robinhood\n",
    "#robin_stocks.authentication.login(username='xxxxxxxxx', password='xxxxxxxxxx', expiresIn=86400, scope='internal', \n",
    "#                                  by_sms=True, store_session=True)"
   ]
  },
  {
   "cell_type": "markdown",
   "metadata": {},
   "source": [
    "## Get 50 Most Popular Stocks on Robinhood as of 7/6/2020\n",
    "- Data comes from Robintrack.net"
   ]
  },
  {
   "cell_type": "code",
   "execution_count": 7,
   "metadata": {
    "ExecuteTime": {
     "end_time": "2020-07-06T15:46:06.823981Z",
     "start_time": "2020-07-06T15:46:06.800731Z"
    }
   },
   "outputs": [],
   "source": [
    "pop_df = pd.read_csv(\"data/leaderboard_2020-07-06.csv\")"
   ]
  },
  {
   "cell_type": "code",
   "execution_count": 9,
   "metadata": {
    "ExecuteTime": {
     "end_time": "2020-07-06T15:46:47.799051Z",
     "start_time": "2020-07-06T15:46:47.794538Z"
    }
   },
   "outputs": [],
   "source": [
    "# Get top 50\n",
    "pop_50_df = pop_df[:50]"
   ]
  },
  {
   "cell_type": "code",
   "execution_count": 11,
   "metadata": {
    "ExecuteTime": {
     "end_time": "2020-07-06T15:47:46.499366Z",
     "start_time": "2020-07-06T15:47:46.484847Z"
    }
   },
   "outputs": [],
   "source": [
    "# Get tickers as a list for the API call to get historical data\n",
    "top_50_list = list(pop_50_df['symbol'])"
   ]
  },
  {
   "cell_type": "markdown",
   "metadata": {},
   "source": [
    "## Get Historical Data for 50 Most Popular Stocks on 7/6/2020\n",
    "- Daily data over past 3 months, market close price, and volume."
   ]
  },
  {
   "cell_type": "code",
   "execution_count": 14,
   "metadata": {
    "ExecuteTime": {
     "end_time": "2020-07-06T15:49:04.916745Z",
     "start_time": "2020-07-06T15:49:04.547873Z"
    }
   },
   "outputs": [],
   "source": [
    "# Give list of top 50 tickers to API call\n",
    "stock_list_data = robin_stocks.stocks.get_stock_historicals(top_50_list, interval='day', span='3month', \n",
    "                                                            bounds='regular')"
   ]
  },
  {
   "cell_type": "code",
   "execution_count": 15,
   "metadata": {
    "ExecuteTime": {
     "end_time": "2020-07-06T15:49:11.758164Z",
     "start_time": "2020-07-06T15:49:11.740247Z"
    }
   },
   "outputs": [],
   "source": [
    "# Make DF\n",
    "stock_list_df = pd.DataFrame(stock_list_data)"
   ]
  },
  {
   "cell_type": "code",
   "execution_count": 17,
   "metadata": {
    "ExecuteTime": {
     "end_time": "2020-07-06T15:49:28.843184Z",
     "start_time": "2020-07-06T15:49:28.822530Z"
    }
   },
   "outputs": [
    {
     "data": {
      "text/html": [
       "<div>\n",
       "<style scoped>\n",
       "    .dataframe tbody tr th:only-of-type {\n",
       "        vertical-align: middle;\n",
       "    }\n",
       "\n",
       "    .dataframe tbody tr th {\n",
       "        vertical-align: top;\n",
       "    }\n",
       "\n",
       "    .dataframe thead th {\n",
       "        text-align: right;\n",
       "    }\n",
       "</style>\n",
       "<table border=\"1\" class=\"dataframe\">\n",
       "  <thead>\n",
       "    <tr style=\"text-align: right;\">\n",
       "      <th></th>\n",
       "      <th>begins_at</th>\n",
       "      <th>open_price</th>\n",
       "      <th>close_price</th>\n",
       "      <th>high_price</th>\n",
       "      <th>low_price</th>\n",
       "      <th>volume</th>\n",
       "      <th>session</th>\n",
       "      <th>interpolated</th>\n",
       "      <th>symbol</th>\n",
       "    </tr>\n",
       "  </thead>\n",
       "  <tbody>\n",
       "    <tr>\n",
       "      <th>0</th>\n",
       "      <td>2020-04-06T00:00:00Z</td>\n",
       "      <td>4.540000</td>\n",
       "      <td>4.530000</td>\n",
       "      <td>4.670000</td>\n",
       "      <td>4.410000</td>\n",
       "      <td>102205319</td>\n",
       "      <td>reg</td>\n",
       "      <td>False</td>\n",
       "      <td>F</td>\n",
       "    </tr>\n",
       "    <tr>\n",
       "      <th>1</th>\n",
       "      <td>2020-04-07T00:00:00Z</td>\n",
       "      <td>4.850000</td>\n",
       "      <td>4.710000</td>\n",
       "      <td>5.030000</td>\n",
       "      <td>4.630000</td>\n",
       "      <td>115150448</td>\n",
       "      <td>reg</td>\n",
       "      <td>False</td>\n",
       "      <td>F</td>\n",
       "    </tr>\n",
       "    <tr>\n",
       "      <th>2</th>\n",
       "      <td>2020-04-08T00:00:00Z</td>\n",
       "      <td>4.860000</td>\n",
       "      <td>5.030000</td>\n",
       "      <td>5.090000</td>\n",
       "      <td>4.800000</td>\n",
       "      <td>117022189</td>\n",
       "      <td>reg</td>\n",
       "      <td>False</td>\n",
       "      <td>F</td>\n",
       "    </tr>\n",
       "    <tr>\n",
       "      <th>3</th>\n",
       "      <td>2020-04-09T00:00:00Z</td>\n",
       "      <td>5.510000</td>\n",
       "      <td>5.370000</td>\n",
       "      <td>5.750000</td>\n",
       "      <td>5.370000</td>\n",
       "      <td>175833664</td>\n",
       "      <td>reg</td>\n",
       "      <td>False</td>\n",
       "      <td>F</td>\n",
       "    </tr>\n",
       "    <tr>\n",
       "      <th>4</th>\n",
       "      <td>2020-04-13T00:00:00Z</td>\n",
       "      <td>5.430000</td>\n",
       "      <td>5.160000</td>\n",
       "      <td>5.430000</td>\n",
       "      <td>5.020000</td>\n",
       "      <td>99320002</td>\n",
       "      <td>reg</td>\n",
       "      <td>False</td>\n",
       "      <td>F</td>\n",
       "    </tr>\n",
       "  </tbody>\n",
       "</table>\n",
       "</div>"
      ],
      "text/plain": [
       "              begins_at open_price close_price high_price low_price  \\\n",
       "0  2020-04-06T00:00:00Z   4.540000    4.530000   4.670000  4.410000   \n",
       "1  2020-04-07T00:00:00Z   4.850000    4.710000   5.030000  4.630000   \n",
       "2  2020-04-08T00:00:00Z   4.860000    5.030000   5.090000  4.800000   \n",
       "3  2020-04-09T00:00:00Z   5.510000    5.370000   5.750000  5.370000   \n",
       "4  2020-04-13T00:00:00Z   5.430000    5.160000   5.430000  5.020000   \n",
       "\n",
       "      volume session  interpolated symbol  \n",
       "0  102205319     reg         False      F  \n",
       "1  115150448     reg         False      F  \n",
       "2  117022189     reg         False      F  \n",
       "3  175833664     reg         False      F  \n",
       "4   99320002     reg         False      F  "
      ]
     },
     "execution_count": 17,
     "metadata": {},
     "output_type": "execute_result"
    }
   ],
   "source": [
    "stock_list_df.head()"
   ]
  },
  {
   "cell_type": "code",
   "execution_count": 18,
   "metadata": {
    "ExecuteTime": {
     "end_time": "2020-07-06T15:49:34.516867Z",
     "start_time": "2020-07-06T15:49:34.493311Z"
    }
   },
   "outputs": [
    {
     "data": {
      "text/html": [
       "<div>\n",
       "<style scoped>\n",
       "    .dataframe tbody tr th:only-of-type {\n",
       "        vertical-align: middle;\n",
       "    }\n",
       "\n",
       "    .dataframe tbody tr th {\n",
       "        vertical-align: top;\n",
       "    }\n",
       "\n",
       "    .dataframe thead th {\n",
       "        text-align: right;\n",
       "    }\n",
       "</style>\n",
       "<table border=\"1\" class=\"dataframe\">\n",
       "  <thead>\n",
       "    <tr style=\"text-align: right;\">\n",
       "      <th></th>\n",
       "      <th>begins_at</th>\n",
       "      <th>close_price</th>\n",
       "      <th>volume</th>\n",
       "      <th>symbol</th>\n",
       "    </tr>\n",
       "  </thead>\n",
       "  <tbody>\n",
       "    <tr>\n",
       "      <th>0</th>\n",
       "      <td>2020-04-06T00:00:00Z</td>\n",
       "      <td>4.530000</td>\n",
       "      <td>102205319</td>\n",
       "      <td>F</td>\n",
       "    </tr>\n",
       "    <tr>\n",
       "      <th>1</th>\n",
       "      <td>2020-04-07T00:00:00Z</td>\n",
       "      <td>4.710000</td>\n",
       "      <td>115150448</td>\n",
       "      <td>F</td>\n",
       "    </tr>\n",
       "    <tr>\n",
       "      <th>2</th>\n",
       "      <td>2020-04-08T00:00:00Z</td>\n",
       "      <td>5.030000</td>\n",
       "      <td>117022189</td>\n",
       "      <td>F</td>\n",
       "    </tr>\n",
       "    <tr>\n",
       "      <th>3</th>\n",
       "      <td>2020-04-09T00:00:00Z</td>\n",
       "      <td>5.370000</td>\n",
       "      <td>175833664</td>\n",
       "      <td>F</td>\n",
       "    </tr>\n",
       "    <tr>\n",
       "      <th>4</th>\n",
       "      <td>2020-04-13T00:00:00Z</td>\n",
       "      <td>5.160000</td>\n",
       "      <td>99320002</td>\n",
       "      <td>F</td>\n",
       "    </tr>\n",
       "  </tbody>\n",
       "</table>\n",
       "</div>"
      ],
      "text/plain": [
       "              begins_at close_price     volume symbol\n",
       "0  2020-04-06T00:00:00Z    4.530000  102205319      F\n",
       "1  2020-04-07T00:00:00Z    4.710000  115150448      F\n",
       "2  2020-04-08T00:00:00Z    5.030000  117022189      F\n",
       "3  2020-04-09T00:00:00Z    5.370000  175833664      F\n",
       "4  2020-04-13T00:00:00Z    5.160000   99320002      F"
      ]
     },
     "execution_count": 18,
     "metadata": {},
     "output_type": "execute_result"
    }
   ],
   "source": [
    "# Drop unneeded columns\n",
    "stock_list_df.drop(['open_price', 'high_price', 'low_price', 'session', 'interpolated'],\n",
    "                  axis=1, inplace=True)\n",
    "\n",
    "stock_list_df.head()"
   ]
  },
  {
   "cell_type": "code",
   "execution_count": 19,
   "metadata": {
    "ExecuteTime": {
     "end_time": "2020-07-06T15:49:42.561302Z",
     "start_time": "2020-07-06T15:49:42.548683Z"
    }
   },
   "outputs": [],
   "source": [
    "# Get rid of unneeded time information from date column\n",
    "stock_list_df['begins_at'] = stock_list_df['begins_at'].str[:10]"
   ]
  },
  {
   "cell_type": "code",
   "execution_count": 20,
   "metadata": {
    "ExecuteTime": {
     "end_time": "2020-07-06T15:49:42.845795Z",
     "start_time": "2020-07-06T15:49:42.828977Z"
    }
   },
   "outputs": [
    {
     "data": {
      "text/html": [
       "<div>\n",
       "<style scoped>\n",
       "    .dataframe tbody tr th:only-of-type {\n",
       "        vertical-align: middle;\n",
       "    }\n",
       "\n",
       "    .dataframe tbody tr th {\n",
       "        vertical-align: top;\n",
       "    }\n",
       "\n",
       "    .dataframe thead th {\n",
       "        text-align: right;\n",
       "    }\n",
       "</style>\n",
       "<table border=\"1\" class=\"dataframe\">\n",
       "  <thead>\n",
       "    <tr style=\"text-align: right;\">\n",
       "      <th></th>\n",
       "      <th>begins_at</th>\n",
       "      <th>close_price</th>\n",
       "      <th>volume</th>\n",
       "      <th>symbol</th>\n",
       "    </tr>\n",
       "  </thead>\n",
       "  <tbody>\n",
       "    <tr>\n",
       "      <th>0</th>\n",
       "      <td>2020-04-06</td>\n",
       "      <td>4.530000</td>\n",
       "      <td>102205319</td>\n",
       "      <td>F</td>\n",
       "    </tr>\n",
       "    <tr>\n",
       "      <th>1</th>\n",
       "      <td>2020-04-07</td>\n",
       "      <td>4.710000</td>\n",
       "      <td>115150448</td>\n",
       "      <td>F</td>\n",
       "    </tr>\n",
       "    <tr>\n",
       "      <th>2</th>\n",
       "      <td>2020-04-08</td>\n",
       "      <td>5.030000</td>\n",
       "      <td>117022189</td>\n",
       "      <td>F</td>\n",
       "    </tr>\n",
       "    <tr>\n",
       "      <th>3</th>\n",
       "      <td>2020-04-09</td>\n",
       "      <td>5.370000</td>\n",
       "      <td>175833664</td>\n",
       "      <td>F</td>\n",
       "    </tr>\n",
       "    <tr>\n",
       "      <th>4</th>\n",
       "      <td>2020-04-13</td>\n",
       "      <td>5.160000</td>\n",
       "      <td>99320002</td>\n",
       "      <td>F</td>\n",
       "    </tr>\n",
       "  </tbody>\n",
       "</table>\n",
       "</div>"
      ],
      "text/plain": [
       "    begins_at close_price     volume symbol\n",
       "0  2020-04-06    4.530000  102205319      F\n",
       "1  2020-04-07    4.710000  115150448      F\n",
       "2  2020-04-08    5.030000  117022189      F\n",
       "3  2020-04-09    5.370000  175833664      F\n",
       "4  2020-04-13    5.160000   99320002      F"
      ]
     },
     "execution_count": 20,
     "metadata": {},
     "output_type": "execute_result"
    }
   ],
   "source": [
    "stock_list_df.head()"
   ]
  },
  {
   "cell_type": "markdown",
   "metadata": {},
   "source": [
    "## Send DF with multiple stocks to csv to make dynamic d3 chart"
   ]
  },
  {
   "cell_type": "code",
   "execution_count": 21,
   "metadata": {
    "ExecuteTime": {
     "end_time": "2020-07-06T15:50:10.938266Z",
     "start_time": "2020-07-06T15:50:10.902651Z"
    }
   },
   "outputs": [],
   "source": [
    "# Create data directory\n",
    "if not os.path.exists('data'):\n",
    "    os.makedirs('data')\n",
    "    \n",
    "stock_list_df.to_csv('data/top_50.csv', index=False)"
   ]
  },
  {
   "cell_type": "code",
   "execution_count": 22,
   "metadata": {
    "ExecuteTime": {
     "end_time": "2020-07-06T18:38:23.835936Z",
     "start_time": "2020-07-06T18:38:23.531120Z"
    }
   },
   "outputs": [
    {
     "data": {
      "text/html": [
       "<div>\n",
       "<style scoped>\n",
       "    .dataframe tbody tr th:only-of-type {\n",
       "        vertical-align: middle;\n",
       "    }\n",
       "\n",
       "    .dataframe tbody tr th {\n",
       "        vertical-align: top;\n",
       "    }\n",
       "\n",
       "    .dataframe thead th {\n",
       "        text-align: right;\n",
       "    }\n",
       "</style>\n",
       "<table border=\"1\" class=\"dataframe\">\n",
       "  <thead>\n",
       "    <tr style=\"text-align: right;\">\n",
       "      <th></th>\n",
       "      <th>begins_at</th>\n",
       "      <th>close_price</th>\n",
       "      <th>volume</th>\n",
       "      <th>symbol</th>\n",
       "    </tr>\n",
       "  </thead>\n",
       "  <tbody>\n",
       "    <tr>\n",
       "      <th>0</th>\n",
       "      <td>2020-04-06</td>\n",
       "      <td>4.530000</td>\n",
       "      <td>102205319</td>\n",
       "      <td>F</td>\n",
       "    </tr>\n",
       "    <tr>\n",
       "      <th>1</th>\n",
       "      <td>2020-04-07</td>\n",
       "      <td>4.710000</td>\n",
       "      <td>115150448</td>\n",
       "      <td>F</td>\n",
       "    </tr>\n",
       "    <tr>\n",
       "      <th>2</th>\n",
       "      <td>2020-04-08</td>\n",
       "      <td>5.030000</td>\n",
       "      <td>117022189</td>\n",
       "      <td>F</td>\n",
       "    </tr>\n",
       "    <tr>\n",
       "      <th>3</th>\n",
       "      <td>2020-04-09</td>\n",
       "      <td>5.370000</td>\n",
       "      <td>175833664</td>\n",
       "      <td>F</td>\n",
       "    </tr>\n",
       "    <tr>\n",
       "      <th>4</th>\n",
       "      <td>2020-04-13</td>\n",
       "      <td>5.160000</td>\n",
       "      <td>99320002</td>\n",
       "      <td>F</td>\n",
       "    </tr>\n",
       "    <tr>\n",
       "      <th>...</th>\n",
       "      <td>...</td>\n",
       "      <td>...</td>\n",
       "      <td>...</td>\n",
       "      <td>...</td>\n",
       "    </tr>\n",
       "    <tr>\n",
       "      <th>3095</th>\n",
       "      <td>2020-06-26</td>\n",
       "      <td>443.400000</td>\n",
       "      <td>6804726</td>\n",
       "      <td>NFLX</td>\n",
       "    </tr>\n",
       "    <tr>\n",
       "      <th>3096</th>\n",
       "      <td>2020-06-29</td>\n",
       "      <td>447.240000</td>\n",
       "      <td>4843978</td>\n",
       "      <td>NFLX</td>\n",
       "    </tr>\n",
       "    <tr>\n",
       "      <th>3097</th>\n",
       "      <td>2020-06-30</td>\n",
       "      <td>455.040000</td>\n",
       "      <td>4198545</td>\n",
       "      <td>NFLX</td>\n",
       "    </tr>\n",
       "    <tr>\n",
       "      <th>3098</th>\n",
       "      <td>2020-07-01</td>\n",
       "      <td>485.640000</td>\n",
       "      <td>9705870</td>\n",
       "      <td>NFLX</td>\n",
       "    </tr>\n",
       "    <tr>\n",
       "      <th>3099</th>\n",
       "      <td>2020-07-02</td>\n",
       "      <td>476.890000</td>\n",
       "      <td>6351485</td>\n",
       "      <td>NFLX</td>\n",
       "    </tr>\n",
       "  </tbody>\n",
       "</table>\n",
       "<p>3100 rows × 4 columns</p>\n",
       "</div>"
      ],
      "text/plain": [
       "       begins_at close_price     volume symbol\n",
       "0     2020-04-06    4.530000  102205319      F\n",
       "1     2020-04-07    4.710000  115150448      F\n",
       "2     2020-04-08    5.030000  117022189      F\n",
       "3     2020-04-09    5.370000  175833664      F\n",
       "4     2020-04-13    5.160000   99320002      F\n",
       "...          ...         ...        ...    ...\n",
       "3095  2020-06-26  443.400000    6804726   NFLX\n",
       "3096  2020-06-29  447.240000    4843978   NFLX\n",
       "3097  2020-06-30  455.040000    4198545   NFLX\n",
       "3098  2020-07-01  485.640000    9705870   NFLX\n",
       "3099  2020-07-02  476.890000    6351485   NFLX\n",
       "\n",
       "[3100 rows x 4 columns]"
      ]
     },
     "execution_count": 22,
     "metadata": {},
     "output_type": "execute_result"
    }
   ],
   "source": [
    "stock_list_df"
   ]
  },
  {
   "cell_type": "code",
   "execution_count": null,
   "metadata": {},
   "outputs": [],
   "source": []
  }
 ],
 "metadata": {
  "kernelspec": {
   "display_name": "Python 3",
   "language": "python",
   "name": "python3"
  },
  "language_info": {
   "codemirror_mode": {
    "name": "ipython",
    "version": 3
   },
   "file_extension": ".py",
   "mimetype": "text/x-python",
   "name": "python",
   "nbconvert_exporter": "python",
   "pygments_lexer": "ipython3",
   "version": "3.7.6"
  }
 },
 "nbformat": 4,
 "nbformat_minor": 4
}
