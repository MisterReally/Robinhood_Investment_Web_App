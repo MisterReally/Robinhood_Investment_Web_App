{
 "cells": [
  {
   "cell_type": "markdown",
   "metadata": {},
   "source": [
    "## Imports"
   ]
  },
  {
   "cell_type": "code",
   "execution_count": 46,
   "metadata": {
    "ExecuteTime": {
     "end_time": "2020-07-06T19:07:03.584873Z",
     "start_time": "2020-07-06T19:07:03.577221Z"
    }
   },
   "outputs": [],
   "source": [
    "import pandas as pd\n",
    "import os"
   ]
  },
  {
   "cell_type": "markdown",
   "metadata": {},
   "source": [
    "## Get 50 Most Popular Stocks on Robinhood as of 7/6/2020\n",
    "- Data comes from Robintrack.net"
   ]
  },
  {
   "cell_type": "code",
   "execution_count": 47,
   "metadata": {
    "ExecuteTime": {
     "end_time": "2020-07-06T19:07:04.123386Z",
     "start_time": "2020-07-06T19:07:04.093024Z"
    }
   },
   "outputs": [],
   "source": [
    "pop_df = pd.read_csv(\"data/leaderboard_2020-07-06.csv\")\n",
    "\n",
    "# Get top 50\n",
    "pop_50_df = pop_df[:50]\n",
    "\n",
    "# Get tickers as a list for the API call to get historical data\n",
    "top_50_list = list(pop_50_df['symbol'])"
   ]
  },
  {
   "cell_type": "markdown",
   "metadata": {},
   "source": [
    "## Loop through list, get .CSVs and turn into one dataframe"
   ]
  },
  {
   "cell_type": "code",
   "execution_count": 48,
   "metadata": {
    "ExecuteTime": {
     "end_time": "2020-07-06T19:07:12.962358Z",
     "start_time": "2020-07-06T19:07:04.998402Z"
    }
   },
   "outputs": [],
   "source": [
    "# initialize empty df\n",
    "top_50_popularity_df = pd.DataFrame([])\n",
    "\n",
    "# loop through list of tickers\n",
    "for ticker_symbol in top_50_list:\n",
    "    #Read current csv\n",
    "    df = pd.read_csv(\"data/popularity_export07-06020/\"+ticker_symbol+\".csv\")\n",
    "    \n",
    "    #add column for ticker\n",
    "    df['Ticker'] = ticker_symbol\n",
    "    \n",
    "    # Get rid of unneeded time information from date column\n",
    "    df['timestamp'] = df['timestamp'].str[:10]\n",
    "    \n",
    "    # get max for each day\n",
    "    df = df.groupby('timestamp').agg('max')\n",
    "    df.reset_index(level=0, inplace=True)\n",
    "    \n",
    "    #Concat data each round\n",
    "    top_50_popularity_df = pd.concat([top_50_popularity_df, df])"
   ]
  },
  {
   "cell_type": "code",
   "execution_count": 49,
   "metadata": {
    "ExecuteTime": {
     "end_time": "2020-07-06T19:07:12.980941Z",
     "start_time": "2020-07-06T19:07:12.965107Z"
    }
   },
   "outputs": [
    {
     "data": {
      "text/html": [
       "<div>\n",
       "<style scoped>\n",
       "    .dataframe tbody tr th:only-of-type {\n",
       "        vertical-align: middle;\n",
       "    }\n",
       "\n",
       "    .dataframe tbody tr th {\n",
       "        vertical-align: top;\n",
       "    }\n",
       "\n",
       "    .dataframe thead th {\n",
       "        text-align: right;\n",
       "    }\n",
       "</style>\n",
       "<table border=\"1\" class=\"dataframe\">\n",
       "  <thead>\n",
       "    <tr style=\"text-align: right;\">\n",
       "      <th></th>\n",
       "      <th>timestamp</th>\n",
       "      <th>users_holding</th>\n",
       "      <th>Ticker</th>\n",
       "    </tr>\n",
       "  </thead>\n",
       "  <tbody>\n",
       "    <tr>\n",
       "      <th>0</th>\n",
       "      <td>2018-05-02</td>\n",
       "      <td>131071.0</td>\n",
       "      <td>F</td>\n",
       "    </tr>\n",
       "    <tr>\n",
       "      <th>1</th>\n",
       "      <td>2018-05-03</td>\n",
       "      <td>131366.0</td>\n",
       "      <td>F</td>\n",
       "    </tr>\n",
       "    <tr>\n",
       "      <th>2</th>\n",
       "      <td>2018-05-04</td>\n",
       "      <td>131247.0</td>\n",
       "      <td>F</td>\n",
       "    </tr>\n",
       "    <tr>\n",
       "      <th>3</th>\n",
       "      <td>2018-05-05</td>\n",
       "      <td>130623.0</td>\n",
       "      <td>F</td>\n",
       "    </tr>\n",
       "    <tr>\n",
       "      <th>4</th>\n",
       "      <td>2018-05-06</td>\n",
       "      <td>130623.0</td>\n",
       "      <td>F</td>\n",
       "    </tr>\n",
       "  </tbody>\n",
       "</table>\n",
       "</div>"
      ],
      "text/plain": [
       "    timestamp  users_holding Ticker\n",
       "0  2018-05-02       131071.0      F\n",
       "1  2018-05-03       131366.0      F\n",
       "2  2018-05-04       131247.0      F\n",
       "3  2018-05-05       130623.0      F\n",
       "4  2018-05-06       130623.0      F"
      ]
     },
     "execution_count": 49,
     "metadata": {},
     "output_type": "execute_result"
    }
   ],
   "source": [
    "top_50_popularity_df.head()"
   ]
  },
  {
   "cell_type": "markdown",
   "metadata": {},
   "source": [
    "## Send to Dataframe"
   ]
  },
  {
   "cell_type": "code",
   "execution_count": 51,
   "metadata": {
    "ExecuteTime": {
     "end_time": "2020-07-06T19:08:03.892141Z",
     "start_time": "2020-07-06T19:08:03.738774Z"
    }
   },
   "outputs": [],
   "source": [
    "top_50_popularity_df.to_csv('data/top_50_popularity.csv', index=False)"
   ]
  },
  {
   "cell_type": "code",
   "execution_count": null,
   "metadata": {},
   "outputs": [],
   "source": []
  }
 ],
 "metadata": {
  "kernelspec": {
   "display_name": "Python 3",
   "language": "python",
   "name": "python3"
  },
  "language_info": {
   "codemirror_mode": {
    "name": "ipython",
    "version": 3
   },
   "file_extension": ".py",
   "mimetype": "text/x-python",
   "name": "python",
   "nbconvert_exporter": "python",
   "pygments_lexer": "ipython3",
   "version": "3.7.6"
  }
 },
 "nbformat": 4,
 "nbformat_minor": 4
}
