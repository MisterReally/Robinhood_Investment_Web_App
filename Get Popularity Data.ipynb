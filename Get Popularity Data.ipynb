{
 "cells": [
  {
   "cell_type": "markdown",
   "metadata": {},
   "source": [
    "## Imports"
   ]
  },
  {
   "cell_type": "code",
   "execution_count": 2,
   "metadata": {
    "ExecuteTime": {
     "end_time": "2020-07-06T16:47:32.763127Z",
     "start_time": "2020-07-06T16:47:32.743798Z"
    }
   },
   "outputs": [],
   "source": [
    "import pandas as pd\n",
    "import os"
   ]
  },
  {
   "cell_type": "markdown",
   "metadata": {},
   "source": [
    "## Get 50 Most Popular Stocks on Robinhood as of 7/6/2020\n",
    "- Data comes from Robintrack.net"
   ]
  },
  {
   "cell_type": "code",
   "execution_count": 3,
   "metadata": {
    "ExecuteTime": {
     "end_time": "2020-07-06T16:48:47.671474Z",
     "start_time": "2020-07-06T16:48:47.582447Z"
    }
   },
   "outputs": [],
   "source": [
    "pop_df = pd.read_csv(\"data/leaderboard_2020-07-06.csv\")\n",
    "\n",
    "# Get top 50\n",
    "pop_50_df = pop_df[:50]\n",
    "\n",
    "# Get tickers as a list for the API call to get historical data\n",
    "top_50_list = list(pop_50_df['symbol'])"
   ]
  },
  {
   "cell_type": "code",
   "execution_count": null,
   "metadata": {},
   "outputs": [],
   "source": []
  }
 ],
 "metadata": {
  "kernelspec": {
   "display_name": "Python 3",
   "language": "python",
   "name": "python3"
  },
  "language_info": {
   "codemirror_mode": {
    "name": "ipython",
    "version": 3
   },
   "file_extension": ".py",
   "mimetype": "text/x-python",
   "name": "python",
   "nbconvert_exporter": "python",
   "pygments_lexer": "ipython3",
   "version": "3.7.6"
  }
 },
 "nbformat": 4,
 "nbformat_minor": 4
}
